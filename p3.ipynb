{
  "nbformat": 4,
  "nbformat_minor": 0,
  "metadata": {
    "colab": {
      "name": "p3.ipynb",
      "provenance": []
    },
    "kernelspec": {
      "name": "python3",
      "display_name": "Python 3"
    },
    "language_info": {
      "name": "python"
    }
  },
  "cells": [
    {
      "cell_type": "code",
      "execution_count": null,
      "metadata": {
        "id": "xuG8YQ7Zw07C"
      },
      "outputs": [],
      "source": [
        "import numpy as np\n",
        "import matplotlib.pyplot as plt\n",
        "import pandas as pd"
      ]
    },
    {
      "cell_type": "code",
      "source": [
        "from sklearn.datasets import make_regression"
      ],
      "metadata": {
        "id": "wS2mCC1GxA7t"
      },
      "execution_count": 4,
      "outputs": []
    },
    {
      "cell_type": "code",
      "source": [
        "X,y=make_regression(n_samples=500,n_features=5,coef=False,bias=12,noise=10,random_state=2529)"
      ],
      "metadata": {
        "id": "IObNeybMxrKr"
      },
      "execution_count": 8,
      "outputs": []
    },
    {
      "cell_type": "code",
      "source": [
        "X,y,w=make_regression(n_samples=500,n_features=5,coef=True,bias=12,noise=10,random_state=2529)"
      ],
      "metadata": {
        "id": "_AKVm3FlyA6T"
      },
      "execution_count": 11,
      "outputs": []
    },
    {
      "cell_type": "code",
      "source": [
        "X"
      ],
      "metadata": {
        "colab": {
          "base_uri": "https://localhost:8080/"
        },
        "id": "tP4yyZZEygNq",
        "outputId": "ace07a3a-01e8-4ede-de0e-08797253cd6a"
      },
      "execution_count": 12,
      "outputs": [
        {
          "output_type": "execute_result",
          "data": {
            "text/plain": [
              "array([[ 0.77913208, -1.09701784, -0.14239962,  1.02427891, -1.0708024 ],\n",
              "       [-0.6925009 ,  0.45535977,  0.34707569, -0.32456746,  0.21970203],\n",
              "       [-0.03901601, -0.3265115 ,  0.59793721,  0.61686653, -0.6237489 ],\n",
              "       ...,\n",
              "       [ 0.33412665,  0.11474505,  0.62425899, -0.09658955, -0.81613498],\n",
              "       [-1.41673418, -0.96799608, -1.00597234, -0.05460157,  1.20460091],\n",
              "       [-0.63173072, -0.12198402,  0.59411585,  0.04694857, -1.97796558]])"
            ]
          },
          "metadata": {},
          "execution_count": 12
        }
      ]
    },
    {
      "cell_type": "code",
      "source": [
        "X.shape,y.shape"
      ],
      "metadata": {
        "colab": {
          "base_uri": "https://localhost:8080/"
        },
        "id": "MIGyxwZsyz6Y",
        "outputId": "4dba83dd-1d16-413a-b881-8983b58b893f"
      },
      "execution_count": 13,
      "outputs": [
        {
          "output_type": "execute_result",
          "data": {
            "text/plain": [
              "((500, 5), (500,))"
            ]
          },
          "metadata": {},
          "execution_count": 13
        }
      ]
    },
    {
      "cell_type": "code",
      "source": [
        "#w is coef of x\n",
        "w"
      ],
      "metadata": {
        "colab": {
          "base_uri": "https://localhost:8080/"
        },
        "id": "etipBJH-y59E",
        "outputId": "6ac62eb6-b9d3-484b-b46d-43d36e52c7d0"
      },
      "execution_count": 14,
      "outputs": [
        {
          "output_type": "execute_result",
          "data": {
            "text/plain": [
              "array([29.45661718, 60.14529878, 61.7409438 , 13.32437893, 99.08122896])"
            ]
          },
          "metadata": {},
          "execution_count": 14
        }
      ]
    },
    {
      "cell_type": "code",
      "source": [
        "X[0:5]"
      ],
      "metadata": {
        "colab": {
          "base_uri": "https://localhost:8080/"
        },
        "id": "iXx_8VGq-Fl-",
        "outputId": "f8951bce-8890-44aa-eff4-c6b051cd1a1f"
      },
      "execution_count": 15,
      "outputs": [
        {
          "output_type": "execute_result",
          "data": {
            "text/plain": [
              "array([[ 0.77913208, -1.09701784, -0.14239962,  1.02427891, -1.0708024 ],\n",
              "       [-0.6925009 ,  0.45535977,  0.34707569, -0.32456746,  0.21970203],\n",
              "       [-0.03901601, -0.3265115 ,  0.59793721,  0.61686653, -0.6237489 ],\n",
              "       [-0.61566117, -0.11782129, -0.98234619, -0.78292727,  0.42713048],\n",
              "       [ 1.30822207, -0.72541559,  0.60187975,  0.33285998,  1.48506184]])"
            ]
          },
          "metadata": {},
          "execution_count": 15
        }
      ]
    },
    {
      "cell_type": "code",
      "source": [
        "y[0:5]"
      ],
      "metadata": {
        "colab": {
          "base_uri": "https://localhost:8080/"
        },
        "id": "NG9AzIn5-aiq",
        "outputId": "d1c022e0-de62-4b07-d264-125b324c6ce7"
      },
      "execution_count": 16,
      "outputs": [
        {
          "output_type": "execute_result",
          "data": {
            "text/plain": [
              "array([-136.21858395,   49.83118244,  -29.81097858,  -31.74001475,\n",
              "        193.0687778 ])"
            ]
          },
          "metadata": {},
          "execution_count": 16
        }
      ]
    },
    {
      "cell_type": "code",
      "source": [
        "from sklearn.model_selection import train_test_split"
      ],
      "metadata": {
        "id": "BD4Mgkr7-gE0"
      },
      "execution_count": 17,
      "outputs": []
    },
    {
      "cell_type": "code",
      "source": [
        "X_train,X_test,y_train,y_test=train_test_split(X,y,test_size=0.3,random_state=2529)"
      ],
      "metadata": {
        "id": "1sn18nBr-pHi"
      },
      "execution_count": 19,
      "outputs": []
    },
    {
      "cell_type": "code",
      "source": [
        "#train the model"
      ],
      "metadata": {
        "id": "2Rkyr95m-_QH"
      },
      "execution_count": 20,
      "outputs": []
    },
    {
      "cell_type": "code",
      "source": [
        "from sklearn.linear_model import LinearRegression"
      ],
      "metadata": {
        "id": "cTAIfAo1_RL4"
      },
      "execution_count": 21,
      "outputs": []
    },
    {
      "cell_type": "code",
      "source": [
        "model=LinearRegression()"
      ],
      "metadata": {
        "id": "JPRb8tu9_XlZ"
      },
      "execution_count": 22,
      "outputs": []
    },
    {
      "cell_type": "code",
      "source": [
        "model.fit(X_train,y_train)"
      ],
      "metadata": {
        "colab": {
          "base_uri": "https://localhost:8080/"
        },
        "id": "1-9lElpf_dIn",
        "outputId": "43ee08fb-ae9c-42bb-f084-18ea4d5cf553"
      },
      "execution_count": 25,
      "outputs": [
        {
          "output_type": "execute_result",
          "data": {
            "text/plain": [
              "LinearRegression()"
            ]
          },
          "metadata": {},
          "execution_count": 25
        }
      ]
    },
    {
      "cell_type": "code",
      "source": [
        "model.intercept_"
      ],
      "metadata": {
        "colab": {
          "base_uri": "https://localhost:8080/"
        },
        "id": "EhXKDcyo_i4u",
        "outputId": "2c8200cb-ddfd-4fbe-e453-f7e6819e11ad"
      },
      "execution_count": 26,
      "outputs": [
        {
          "output_type": "execute_result",
          "data": {
            "text/plain": [
              "12.804677404011848"
            ]
          },
          "metadata": {},
          "execution_count": 26
        }
      ]
    },
    {
      "cell_type": "code",
      "source": [
        "#bias introduced at the time of generating dataset was 12 and predicted intercept is very close to 12. The diff is due to noise=10 introduced at the time of data generation"
      ],
      "metadata": {
        "id": "LGHrI4oQ_yJN"
      },
      "execution_count": 27,
      "outputs": []
    },
    {
      "cell_type": "code",
      "source": [
        "model.coef_"
      ],
      "metadata": {
        "colab": {
          "base_uri": "https://localhost:8080/"
        },
        "id": "8n5KLNihAVYl",
        "outputId": "caf23b61-5791-419c-dc66-feebc3d7169b"
      },
      "execution_count": 28,
      "outputs": [
        {
          "output_type": "execute_result",
          "data": {
            "text/plain": [
              "array([30.14690156, 59.8508539 , 61.00591796, 13.33058614, 98.52732683])"
            ]
          },
          "metadata": {},
          "execution_count": 28
        }
      ]
    },
    {
      "cell_type": "code",
      "source": [
        " #predictions"
      ],
      "metadata": {
        "id": "qzbcyw6zAZj3"
      },
      "execution_count": 29,
      "outputs": []
    },
    {
      "cell_type": "code",
      "source": [
        "y_pred=model.predict(X_test)"
      ],
      "metadata": {
        "id": "MfakWBCnBbkD"
      },
      "execution_count": 30,
      "outputs": []
    },
    {
      "cell_type": "code",
      "source": [
        "#model evaluation"
      ],
      "metadata": {
        "id": "6bsDyFnWBfkS"
      },
      "execution_count": 31,
      "outputs": []
    },
    {
      "cell_type": "code",
      "source": [
        "from sklearn.metrics import mean_absolute_error,mean_squared_error,r2_score"
      ],
      "metadata": {
        "id": "jHFuWN_QBnuA"
      },
      "execution_count": 34,
      "outputs": []
    },
    {
      "cell_type": "code",
      "source": [
        "mean_squared_error(y_test,y_pred)"
      ],
      "metadata": {
        "colab": {
          "base_uri": "https://localhost:8080/"
        },
        "id": "D6zulmQfB4pr",
        "outputId": "38b80cc5-4c99-45f7-ceae-091efc53b43f"
      },
      "execution_count": 35,
      "outputs": [
        {
          "output_type": "execute_result",
          "data": {
            "text/plain": [
              "93.17298608096334"
            ]
          },
          "metadata": {},
          "execution_count": 35
        }
      ]
    },
    {
      "cell_type": "code",
      "source": [
        "mean_absolute_error(y_test,y_pred)"
      ],
      "metadata": {
        "colab": {
          "base_uri": "https://localhost:8080/"
        },
        "id": "ReSWHtdCCUfi",
        "outputId": "4ef8425d-1cb2-467b-ea60-6a8a92a85a44"
      },
      "execution_count": 37,
      "outputs": [
        {
          "output_type": "execute_result",
          "data": {
            "text/plain": [
              "7.861503882499261"
            ]
          },
          "metadata": {},
          "execution_count": 37
        }
      ]
    },
    {
      "cell_type": "code",
      "source": [
        "r2_score(y_test,y_pred)"
      ],
      "metadata": {
        "colab": {
          "base_uri": "https://localhost:8080/"
        },
        "id": "8gfrEeNNCdH2",
        "outputId": "6ae10289-deb5-4a08-a51e-90a7b862d100"
      },
      "execution_count": 38,
      "outputs": [
        {
          "output_type": "execute_result",
          "data": {
            "text/plain": [
              "0.9944221597296871"
            ]
          },
          "metadata": {},
          "execution_count": 38
        }
      ]
    },
    {
      "cell_type": "code",
      "source": [
        ""
      ],
      "metadata": {
        "id": "tdPbZFcXCoB4"
      },
      "execution_count": null,
      "outputs": []
    }
  ]
}